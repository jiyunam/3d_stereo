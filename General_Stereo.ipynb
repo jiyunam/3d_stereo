{
  "nbformat": 4,
  "nbformat_minor": 0,
  "metadata": {
    "colab": {
      "name": "General Stereo",
      "provenance": [],
      "collapsed_sections": []
    },
    "kernelspec": {
      "name": "python3",
      "display_name": "Python 3"
    }
  },
  "cells": [
    {
      "cell_type": "code",
      "metadata": {
        "colab": {
          "base_uri": "https://localhost:8080/"
        },
        "id": "n9C2l-NrvsNS",
        "outputId": "9ce43c88-2694-4bba-e9a1-c4ffa3ae70f6"
      },
      "source": [
        "!pip install opencv-contrib-python==3.4.0.12 \r\n",
        "# otherwise you'd get an error message saying this when you try to use SIFT\r\n",
        "# This algorithm is patented and is excluded in this configuration; \r\n",
        "# Set OPENCV_ENABLE_NONFREE CMake option and rebuild the library in \r\n",
        "# function 'cv::xfeatures2d::SIFT::create'"
      ],
      "execution_count": null,
      "outputs": [
        {
          "output_type": "stream",
          "text": [
            "Requirement already satisfied: opencv-contrib-python==3.4.0.12 in /usr/local/lib/python3.6/dist-packages (3.4.0.12)\n",
            "Requirement already satisfied: numpy>=1.11.3 in /usr/local/lib/python3.6/dist-packages (from opencv-contrib-python==3.4.0.12) (1.19.4)\n"
          ],
          "name": "stdout"
        }
      ]
    },
    {
      "cell_type": "code",
      "metadata": {
        "colab": {
          "base_uri": "https://localhost:8080/"
        },
        "id": "8f9w3X2wv1_4",
        "outputId": "467b6cf2-edca-4412-dcfe-c26acd1129de"
      },
      "source": [
        "import numpy as np\r\n",
        "import pandas as pd\r\n",
        "\r\n",
        "from scipy import ndimage, signal\r\n",
        "from scipy.ndimage import gaussian_filter\r\n",
        "from copy import deepcopy\r\n",
        "import matplotlib.pyplot as plt\r\n",
        "import matplotlib.colors as colors\r\n",
        "import matplotlib.cm as cmx\r\n",
        "\r\n",
        "import random\r\n",
        "import math\r\n",
        "import os\r\n",
        "\r\n",
        "from copy import deepcopy\r\n",
        "\r\n",
        "!pip install opencv-python\r\n",
        "import cv2\r\n",
        "\r\n",
        "import plotly.graph_objects as go\r\n",
        "\r\n",
        "from google.colab.patches import cv2_imshow"
      ],
      "execution_count": null,
      "outputs": [
        {
          "output_type": "stream",
          "text": [
            "Requirement already satisfied: opencv-python in /usr/local/lib/python3.6/dist-packages (4.1.2.30)\n",
            "Requirement already satisfied: numpy>=1.11.3 in /usr/local/lib/python3.6/dist-packages (from opencv-python) (1.19.4)\n"
          ],
          "name": "stdout"
        }
      ]
    },
    {
      "cell_type": "code",
      "metadata": {
        "id": "H7cA2-8Rv2jI"
      },
      "source": [
        "def get_images(path0, path1):\r\n",
        "  img0 = cv2.imread(path0, cv2.IMREAD_GRAYSCALE)\r\n",
        "  img1 = cv2.imread(path1, cv2.IMREAD_GRAYSCALE)\r\n",
        "\r\n",
        "  return img0, img1"
      ],
      "execution_count": null,
      "outputs": []
    },
    {
      "cell_type": "code",
      "metadata": {
        "id": "uu9_HoHHwGIl"
      },
      "source": [
        "def get_point_matches(img1, img2, metric='SIFT', threshold=0.5):\r\n",
        "  if metric == 'SIFT':\r\n",
        "    descriptor = cv2.xfeatures2d.SIFT_create()\r\n",
        "  elif metric == 'SURF':\r\n",
        "    descriptor = cv2.xfeatures2d.SURF_create()\r\n",
        "  else:\r\n",
        "    descriptor = cv2.ORB_create(nfeatures=1000)\r\n",
        "  \r\n",
        "  kp1, desc1 = descriptor.detectAndCompute(img1, None)\r\n",
        "  kp2, desc2 = descriptor.detectAndCompute(img2, None)\r\n",
        "\r\n",
        "  bf = cv2.BFMatcher()\r\n",
        "  matches = bf.knnMatch(desc1, desc2, k=2) # k=2 means find the top two matchs for each query descriptor\r\n",
        "\r\n",
        "  # Apply ratio test (as per David Lowe's SIFT paper: compare the best match with the 2nd best match_\r\n",
        "  good_matches = []\r\n",
        "  good_matches_without_list = []\r\n",
        "  for m,n in matches:\r\n",
        "      if m.distance < threshold*n.distance: # only accept matchs that are considerably better than the 2nd best match\r\n",
        "          good_matches.append([m])\r\n",
        "          good_matches_without_list.append(m) # this is to simplify finding a homography later\r\n",
        "\r\n",
        "\r\n",
        "  src_pts = np.float32([ kp1[m.queryIdx].pt for m in good_matches_without_list ]).reshape(-1,1,2)\r\n",
        "  dst_pts = np.float32([ kp2[m.trainIdx].pt for m in good_matches_without_list ]).reshape(-1,1,2)\r\n",
        "\r\n",
        "  src_dst_pts = np.concatenate((src_pts.squeeze(), dst_pts.squeeze()), axis=1)\r\n",
        "  src_dst_pts = src_dst_pts[np.argsort(src_dst_pts[:,0])]\r\n",
        "\r\n",
        "  src_pts = src_dst_pts[:,0:2]\r\n",
        "  dst_pts = src_dst_pts[:,2:]\r\n",
        "\r\n",
        "  return src_pts, dst_pts"
      ],
      "execution_count": null,
      "outputs": []
    },
    {
      "cell_type": "code",
      "metadata": {
        "id": "NggLycGFwGqN"
      },
      "source": [
        "def extract_calibration_vals(file, image_numbers):\r\n",
        "    image1, image2 = image_numbers\r\n",
        "\r\n",
        "    calib_vals = {}\r\n",
        "    temple_par = pd.read_csv(\"dino_par.txt\", delimiter=' ', dtype=str, skiprows=[0], index_col=0, header=None)\r\n",
        "    temple_par.columns = ['k11', 'k12', 'k13', 'k21', 'k22', 'k23', \r\n",
        "                          'k31', 'k32', 'k33', 'r11', 'r12', 'r13', \r\n",
        "                          'r21', 'r22', 'r23', 'r31', 'r32', 'r33', \r\n",
        "                          't1', 't2', 't3']\r\n",
        "    temple_par.index.name = 'image name'\r\n",
        "    K0 = temple_par.iloc[image1,0:9].values.reshape(3,3).astype(float)\r\n",
        "    R0 = temple_par.iloc[image1,9:18].values.reshape(3,3).astype(float)\r\n",
        "    t0 = temple_par.iloc[image1,18:].values.reshape(3,1).astype(float)\r\n",
        "    K1 = temple_par.iloc[image2,0:9].values.reshape(3,3).astype(float)\r\n",
        "    R1 = temple_par.iloc[image2,9:18].values.reshape(3,3).astype(float)\r\n",
        "    t1 = temple_par.iloc[image2,18:].values.reshape(3,1).astype(float)\r\n",
        "    calib_vals['cam0'] = K0\r\n",
        "    calib_vals['cam1'] = K1\r\n",
        "    calib_vals['R0'] = R0\r\n",
        "    calib_vals['R1'] = R1\r\n",
        "    calib_vals['t0'] = t0\r\n",
        "    calib_vals['t1'] = t1\r\n",
        "    calib_vals['baseline'] = np.linalg.norm(t1 - t0)\r\n",
        "    return calib_vals"
      ],
      "execution_count": null,
      "outputs": []
    },
    {
      "cell_type": "code",
      "metadata": {
        "id": "n-W6g22DzuDM"
      },
      "source": [
        "def drawlines(img1, img2, lines, pts1, pts2, colours):\r\n",
        "    ''' img1 - image on which we draw the epilines for the points in img2\r\n",
        "        lines - corresponding epilines '''\r\n",
        "    r,c = img1.shape\r\n",
        "    img1 = img1.transpose()#[::-1,:]\r\n",
        "    img2 = img2.transpose()#[::-1,:]\r\n",
        "    img1 = cv2.cvtColor(img1, cv2.COLOR_GRAY2BGR)\r\n",
        "    img2 = cv2.cvtColor(img2, cv2.COLOR_GRAY2BGR)\r\n",
        "    for index, (r, pt1, pt2) in enumerate(zip(lines, pts1, pts2)):\r\n",
        "        colour = colours[index]\r\n",
        "        x0,y0 = map(int, [0, -r[2]/r[1] ])\r\n",
        "        x1,y1 = map(int, [c, -(r[2]+r[0]*c)/r[1] ])\r\n",
        "        img1 = cv2.line(img1, (y0,x0), (y1,x1), colour, 1)\r\n",
        "        img1 = cv2.circle(img1, tuple(pt1)[::-1], 5, colour, -1)\r\n",
        "        img2 = cv2.circle(img2, tuple(pt2)[::-1], 5, colour, -1)\r\n",
        "    return img1, img2"
      ],
      "execution_count": null,
      "outputs": []
    },
    {
      "cell_type": "code",
      "metadata": {
        "id": "HEBX98bzwJEW"
      },
      "source": [
        "def compute_epipolar_lines(F, img1, img2, pts1, pts2, image_path_0, image_path_1):\r\n",
        "  # Find epilines corresponding to points in right image (second image) and\r\n",
        "  # drawing its lines on left image\r\n",
        "\r\n",
        "  # Acquire colors:\r\n",
        "  rainbow_cm = plt.get_cmap('rainbow')\r\n",
        "  c_norm  = colors.Normalize(vmin=0, vmax=len(pts1)-1)\r\n",
        "  scalar_map = cmx.ScalarMappable(norm=c_norm, cmap=rainbow_cm)\r\n",
        "  \r\n",
        "  colours = []\r\n",
        "  for i in range(len(pts1)):\r\n",
        "    colours.append(np.asarray(scalar_map.to_rgba(i)[:3])*255)\r\n",
        "\r\n",
        "  lines1 = cv2.computeCorrespondEpilines(pts2.reshape(-1,1,2), 2,F)\r\n",
        "  lines1 = lines1.reshape(-1,3)\r\n",
        "  img5,img6 = drawlines(img1, img2, lines1, pts1, pts2, colours)\r\n",
        "  # Find epilines corresponding to points in left image (first image) and\r\n",
        "  # drawing its lines on right image\r\n",
        "  lines2 = cv2.computeCorrespondEpilines(pts1.reshape(-1,1,2), 1,F)\r\n",
        "  lines2 = lines2.reshape(-1,3)\r\n",
        "  img3,img4 = drawlines(img2, img1, lines2, pts2, pts1, colours)\r\n",
        "\r\n",
        "  fig, axs = plt.subplots(1, 2, figsize=(20, 10))\r\n",
        "  axs[0].imshow(img5)\r\n",
        "  axs[0].set_ylim(0, img1.shape[1])\r\n",
        "  axs[0].set_title('Epipolar Lines of image {}'.format(image_path_0))\r\n",
        "  axs[1].imshow(img3)\r\n",
        "  axs[1].set_ylim(0, img1.shape[1])\r\n",
        "  axs[1].set_title('Epipolar Lines of image {}'.format(image_path_1))\r\n",
        "  \r\n",
        "  plt.show()"
      ],
      "execution_count": null,
      "outputs": []
    },
    {
      "cell_type": "code",
      "metadata": {
        "id": "_EN8_Cm9xqX7"
      },
      "source": [
        "def open_cv_homography(img0, img1, F, img0_pts, img1_pts, suppress_images):\r\n",
        "  thresh = 0\r\n",
        "  height, width = img0.shape\r\n",
        "  _, H0, H1 = cv2.stereoRectifyUncalibrated(\r\n",
        "      np.float32(img0_pts), np.float32(img1_pts), F, imgSize=(width, height), threshold=thresh,\r\n",
        "  )\r\n",
        "\r\n",
        "  img0_rectified = cv2.warpPerspective(img0, H0, (width, height))\r\n",
        "  img1_rectified = cv2.warpPerspective(img1, H1, (width, height))\r\n",
        "  if not suppress_images:\r\n",
        "    cv2_imshow(img0_rectified)\r\n",
        "    cv2_imshow(img1_rectified)\r\n",
        "\r\n",
        "  return H0, H1, img0_rectified, img1_rectified"
      ],
      "execution_count": null,
      "outputs": []
    },
    {
      "cell_type": "code",
      "metadata": {
        "id": "9R2E1y8ZSSCT"
      },
      "source": [
        "def normalize_coordinates(img_pts):\r\n",
        "    n = len(img_pts)\r\n",
        "    # compute centroid in image\r\n",
        "    centroid_x, centroid_y = img_pts.mean(0)\r\n",
        "    O = np.array([[1, 0, -centroid_x],\r\n",
        "                  [0, 1, -centroid_y],\r\n",
        "                  [0, 0, 1]])\r\n",
        "    \r\n",
        "    # recenter\r\n",
        "    recentered_pts = img_pts - [centroid_x,centroid_y]\r\n",
        "    \r\n",
        "    # find scale term\r\n",
        "    s = np.sqrt(2) / np.sqrt(1/n * np.sum(recentered_pts**2))\r\n",
        "    S = np.array([[s, 0, 0],\r\n",
        "                  [0, s, 0],\r\n",
        "                  [0, 0, 1]])\r\n",
        "\r\n",
        "    # transformation matrix\r\n",
        "    T = S @ O\r\n",
        "    \r\n",
        "    # new coordinates\r\n",
        "    norm_pts = np.empty(img_pts.shape)\r\n",
        "    for idx, pt in enumerate(img_pts):\r\n",
        "        norm_pt = T @ np.array([[pt[0]], [pt[1]], [1]])\r\n",
        "        norm_pt = (norm_pt[:2]).squeeze()\r\n",
        "        norm_pts[idx] = norm_pt\r\n",
        "    return T, norm_pts #return T s.t. we can convert back later"
      ],
      "execution_count": null,
      "outputs": []
    },
    {
      "cell_type": "code",
      "metadata": {
        "id": "vnvGivtVSL57"
      },
      "source": [
        "def eight_point(src_pts, dst_pts, T0, T1):\r\n",
        "    # 8-point algorithm\r\n",
        "    num_match = src_pts.shape[0]\r\n",
        "    A = np.empty((num_match, 9))\r\n",
        "    for idx in range(num_match):\r\n",
        "        x0, y0 = src_pts[idx]\r\n",
        "        x1, y1 = dst_pts[idx]\r\n",
        "        A[idx] = [x1*x0, x1*y0, x1, y1*x0, y1*y0, y1, x0, y0, 1]\r\n",
        "\r\n",
        "    # use SVD to solve F -- take column of V corresponding to least singular value\r\n",
        "    U,S,VT = np.linalg.svd(A)\r\n",
        "    V = VT.T\r\n",
        "    F = V[:,-1].reshape(3,3)\r\n",
        "\r\n",
        "    # enforce rank 2 constraint (Tsai and Huang) -- make last eigval 0\r\n",
        "    U,S,VT = np.linalg.svd(F)\r\n",
        "    S[-1] = 0\r\n",
        "    F = U@(np.diag(S))@VT\r\n",
        "\r\n",
        "    # need to un-normalize F\r\n",
        "    F = T1.T @ F @ T0\r\n",
        "    return F/F[2,2]"
      ],
      "execution_count": null,
      "outputs": []
    },
    {
      "cell_type": "code",
      "metadata": {
        "id": "6zZv-s9MxuM6"
      },
      "source": [
        "def get_fundamental_matrix(parameters, F_method):\r\n",
        "  f, K0, K1, R0, R1, t0, t1, img0_pts, img1_pts = parameters\r\n",
        "\r\n",
        "  # fundamental matrix\r\n",
        "  if F_method == 'Hartley':\r\n",
        "    R1_camera_coord_0 = R1 @ R0.transpose()\r\n",
        "    t1_camera_coord_0 = t0 - R1_camera_coord_0.transpose() @ t1\r\n",
        "\r\n",
        "    KRt = K0 @ R1_camera_coord_0 @ t1_camera_coord_0\r\n",
        "    cross_product_matrix_KRt = np.asarray([[0, -KRt[2][0], KRt[1][0]], [KRt[2][0], 0, -KRt[0][0]], [-KRt[1][0], KRt[0][0], 0]])\r\n",
        "    F = cross_product_matrix_KRt @ (K1 @ R1) @ np.linalg.inv(K0 @ R0)\r\n",
        "\r\n",
        "  elif F_method == 'openCV':\r\n",
        "    F, _ = cv2.findFundamentalMat(img0_pts, img1_pts, cv2.FM_RANSAC)\r\n",
        "\r\n",
        "  else:\r\n",
        "    T0, img0_pts_norm = normalize_coordinates(img0_pts)\r\n",
        "    T1, img1_pts_norm = normalize_coordinates(img1_pts)\r\n",
        "    F = eight_point(img0_pts_norm, img1_pts_norm, T0, T1)\r\n",
        "\r\n",
        "  return F"
      ],
      "execution_count": null,
      "outputs": []
    },
    {
      "cell_type": "code",
      "metadata": {
        "id": "UBB1zxa4x-Nd"
      },
      "source": [
        "def rectify_image(img0, img1, parameters, image_path_0, image_path_1, F_method='Hartley', suppress_images=True):\r\n",
        "  f, K0, K1, R0, R1, t0, t1, img0_pts, img1_pts = parameters\r\n",
        "  \r\n",
        "  F = get_fundamental_matrix(parameters, F_method=F_method)\r\n",
        "  #print(F/F[-1,-1])\r\n",
        "\r\n",
        "  if not suppress_images:\r\n",
        "    compute_epipolar_lines(F, img0, img1, img0_pts, img1_pts, image_path_0, image_path_1)\r\n",
        "\r\n",
        "  H0, H1, img0_rectified, img1_rectified = open_cv_homography(img0, img1, F, img0_pts, img1_pts, suppress_images)\r\n",
        "\r\n",
        "  print(\"Sanity Check\")\r\n",
        "\r\n",
        "  Fbar = np.asarray([[0,0,0],[0,0,-1],[0,1,0]])\r\n",
        "  F_recap = H1.transpose() @ Fbar @ H0\r\n",
        "  print(\"Ensure the following matrices are equal [H1.T @ Fbar @ H0 = F]\")\r\n",
        "  print(F_recap / F_recap[-1,-1])\r\n",
        "  print(F/F[-1,-1])\r\n",
        "\r\n",
        "  return (H0, H1, img0_rectified, img1_rectified)"
      ],
      "execution_count": null,
      "outputs": []
    },
    {
      "cell_type": "code",
      "metadata": {
        "id": "_L-sR6tBwXWt"
      },
      "source": [
        "# remove points that are n stdev away from the mean\r\n",
        "def remove_outliers(world_coord, num_std=3):\r\n",
        "  mean_coord = np.array([np.mean(world_coord[:,0]), np.mean(world_coord[:,1]), np.mean(world_coord[:,2])])\r\n",
        "  stdev_coord = np.array([np.std(world_coord[:,0]), np.std(world_coord[:,1]), np.std(world_coord[:,2])])\r\n",
        "\r\n",
        "  world_coord = world_coord[(world_coord[:,0] > mean_coord[0] - num_std*stdev_coord[0]) & (world_coord[:,0] < mean_coord[0] + num_std*stdev_coord[0])]\r\n",
        "  world_coord = world_coord[(world_coord[:,1] > mean_coord[1] - num_std*stdev_coord[1]) & (world_coord[:,1] < mean_coord[1] + num_std*stdev_coord[1])]\r\n",
        "  world_coord = world_coord[(world_coord[:,2] > mean_coord[2] - num_std*stdev_coord[2]) & (world_coord[:,2] < mean_coord[2] + num_std*stdev_coord[2])]\r\n",
        "\r\n",
        "  return world_coord"
      ],
      "execution_count": null,
      "outputs": []
    },
    {
      "cell_type": "code",
      "metadata": {
        "id": "Ep-qOlpcwHoq"
      },
      "source": [
        "# Get the 3D coordinates of the matches\r\n",
        "def get_world_coord(img0, img1, rgb0, parameters, match_method='SIFT'):\r\n",
        "  f, K0, K1, R0, R1, t0, t1, img0_pts, img1_pts = parameters\r\n",
        "\r\n",
        "  px0 = K0[0,2]\r\n",
        "  px1 = K1[0,2]\r\n",
        "  py0 = K0[1,2]\r\n",
        "  py1 = K1[1,2]\r\n",
        "  \r\n",
        "  T = np.linalg.norm([px0-px1, py0-py1])  #calib_vals.get('doffs', np.linalg.norm([px0-px1, py0-py1]))\r\n",
        "\r\n",
        "  img0_pts = np.array(img0_pts)\r\n",
        "  img1_pts = np.array(img1_pts)\r\n",
        "\r\n",
        "  factor = 1\r\n",
        "\r\n",
        "  # Calculate world coordinates per pixel\r\n",
        "  num_pts = len(img0_pts)\r\n",
        "  world_coord = np.zeros((num_pts,6))\r\n",
        "  for idx, pt in enumerate(img0_pts):\r\n",
        "    # Calculate depth using: z = fT/(xr-xl)\r\n",
        "    z = f*T/(np.absolute((pt[0])-(img1_pts[idx,0]))*factor)\r\n",
        "    world_coord[idx,2] = z\r\n",
        "\r\n",
        "    # x = fX/z + px, solve for X where X is world coordinate of x in the img\r\n",
        "    # X = (x-px)z/f\r\n",
        "    x0 = (pt[0]-px0)*factor*z/f\r\n",
        "    x1 = (img1_pts[idx,0]-px1)*factor*z/f\r\n",
        "    world_coord[idx,0] = -x0\r\n",
        "    #world_coord[idx,0] = -(x0+x1)/2\r\n",
        "    # do same for Y\r\n",
        "    y0 = (pt[1]-py0)*factor*z/f\r\n",
        "    y1 = (img1_pts[idx,1]-py1)*factor*z/f\r\n",
        "    world_coord[idx,1] = y0\r\n",
        "    #world_coord[idx,1] = (y0+y1)/2\r\n",
        "\r\n",
        "    # add colour\r\n",
        "    world_coord[idx,3:] = rgb0[int(pt[1])*factor,int(pt[0])*factor,:]\r\n",
        "\r\n",
        "  return world_coord"
      ],
      "execution_count": null,
      "outputs": []
    },
    {
      "cell_type": "code",
      "metadata": {
        "id": "BGyjMLAzwKdZ"
      },
      "source": [
        "# plot 3d point cloud of matches via plotly\r\n",
        "def plot_pointCloud(pc, path='plot.html'):\r\n",
        "    '''\r\n",
        "    plots the Nx6 point cloud pc in 3D\r\n",
        "    assumes (1,0,0), (0,1,0), (0,0,-1) as basis\r\n",
        "    '''\r\n",
        "    fig = go.Figure(data=[go.Scatter3d(\r\n",
        "        x=pc[:, 0],\r\n",
        "        y=pc[:, 1],\r\n",
        "        z=-pc[:, 2],\r\n",
        "        mode='markers',\r\n",
        "        marker=dict(\r\n",
        "            size=2,\r\n",
        "            color=pc[:, 3:][..., ::-1],\r\n",
        "            opacity=0.8\r\n",
        "        )\r\n",
        "    )])\r\n",
        "    fig.write_html(path)\r\n",
        "    fig.show()\r\n"
      ],
      "execution_count": null,
      "outputs": []
    },
    {
      "cell_type": "code",
      "metadata": {
        "id": "FB3fnHKgwMZf"
      },
      "source": [
        "def run(image_index_0, image_index_1, calibration_filepath, match_method='SIFT', threshold=0.75, outlier_bound=2, do_rectify=True, F_method='Hartley', suppress_images=True):\r\n",
        "  base_image_path = \"dino{:04d}.png\"\r\n",
        "\r\n",
        "  image_path_0 = base_image_path.format(image_index_0)\r\n",
        "  image_path_1 = base_image_path.format(image_index_1)\r\n",
        "\r\n",
        "  img0, img1 = get_images(image_path_0, image_path_1)\r\n",
        "  rgb0 = cv2.imread(image_path_0)\r\n",
        "\r\n",
        "  # Acquire camera information\r\n",
        "  calib_vals = extract_calibration_vals(calibration_filepath, (image_index_0, image_index_1))\r\n",
        "  K0 = calib_vals['cam0']\r\n",
        "  K1 = calib_vals['cam1']\r\n",
        "  f = K0[0,0]\r\n",
        "  \r\n",
        "  R0 = calib_vals['R0']\r\n",
        "  R1 = calib_vals['R1']\r\n",
        "\r\n",
        "  t0 = calib_vals['t0']\r\n",
        "  t1 = calib_vals['t1']\r\n",
        "\r\n",
        "  # Extract matching points from the imgs\r\n",
        "  img0_pts, img1_pts = get_point_matches(img0, img1, metric=match_method, threshold=threshold)\r\n",
        "\r\n",
        "  parameters = (f, K0, K1, R0, R1, t0, t1, img0_pts.squeeze(), img1_pts.squeeze())\r\n",
        "\r\n",
        "  if do_rectify:\r\n",
        "    rectify_output = rectify_image(img0, img1, parameters, image_path_0, image_path_1, F_method=F_method, suppress_images=suppress_images)\r\n",
        "\r\n",
        "    H0, H1 = rectify_output[:2]\r\n",
        "    img0 = rectify_output[2]\r\n",
        "    img1 = rectify_output[3]\r\n",
        "\r\n",
        "    #K0 = H0 @ K0\r\n",
        "    #K1 = H1 @ K1\r\n",
        "    #R0 = R0 @ H0\r\n",
        "    #R1 = R1 @ H1\r\n",
        "    #t0 = H0 @ t0\r\n",
        "    #t1 = H1 @ t1\r\n",
        "\r\n",
        "    #f = K0[0,0]\r\n",
        "\r\n",
        "    #print(R0/R0[-1,-1])\r\n",
        "    #print(R1/R1[-1,-1])\r\n",
        "\r\n",
        "    #img0_pts, img1_pts = get_point_matches(img0, img1, metric=match_method, threshold=threshold)\r\n",
        "\r\n",
        "    #parameters = (f, K0, K1, R0, R1, t0, t1, img0_pts.squeeze(), img1_pts.squeeze())\r\n",
        "\r\n",
        "  world_coord = get_world_coord(img0, img1, rgb0, parameters, match_method)\r\n",
        "  #world_coord = remove_outliers(world_coord, outlier_bound)\r\n",
        "  plot_pointCloud(world_coord)\r\n",
        "\r\n"
      ],
      "execution_count": 69,
      "outputs": []
    },
    {
      "cell_type": "code",
      "metadata": {
        "colab": {
          "base_uri": "https://localhost:8080/",
          "height": 542
        },
        "id": "VVA3i9Xh4eLI",
        "outputId": "cf01d7e9-e5ae-47db-81f7-4f60c02514e8"
      },
      "source": [
        "run(image_index_0=2, image_index_1=1, calibration_filepath='dino_par.txt', match_method='SURF', threshold=0.75, outlier_bound=2, do_rectify=False, F_method='Hartley', suppress_images=True)"
      ],
      "execution_count": 71,
      "outputs": [
        {
          "output_type": "display_data",
          "data": {
            "text/html": [
              "<html>\n",
              "<head><meta charset=\"utf-8\" /></head>\n",
              "<body>\n",
              "    <div>\n",
              "            <script src=\"https://cdnjs.cloudflare.com/ajax/libs/mathjax/2.7.5/MathJax.js?config=TeX-AMS-MML_SVG\"></script><script type=\"text/javascript\">if (window.MathJax) {MathJax.Hub.Config({SVG: {font: \"STIX-Web\"}});}</script>\n",
              "                <script type=\"text/javascript\">window.PlotlyConfig = {MathJaxConfig: 'local'};</script>\n",
              "        <script src=\"https://cdn.plot.ly/plotly-latest.min.js\"></script>    \n",
              "            <div id=\"243bae80-223f-4f35-8799-926d89221926\" class=\"plotly-graph-div\" style=\"height:525px; width:100%;\"></div>\n",
              "            <script type=\"text/javascript\">\n",
              "                \n",
              "                    window.PLOTLYENV=window.PLOTLYENV || {};\n",
              "                    \n",
              "                if (document.getElementById(\"243bae80-223f-4f35-8799-926d89221926\")) {\n",
              "                    Plotly.newPlot(\n",
              "                        '243bae80-223f-4f35-8799-926d89221926',\n",
              "                        [{\"marker\": {\"color\": [[1.0, 0.0, 0.0], [11.0, 6.0, 3.0], [13.0, 7.0, 2.0], [15.0, 14.0, 6.0], [15.0, 14.0, 6.0], [15.0, 8.0, 8.0], [26.0, 18.0, 14.0], [19.0, 13.0, 8.0], [21.0, 15.0, 10.0], [31.0, 22.0, 14.0], [81.0, 81.0, 67.0], [24.0, 25.0, 16.0], [87.0, 86.0, 75.0], [84.0, 85.0, 76.0], [26.0, 23.0, 15.0], [93.0, 90.0, 81.0], [101.0, 100.0, 87.0], [2.0, 0.0, 0.0], [4.0, 1.0, 3.0], [99.0, 93.0, 86.0], [4.0, 1.0, 4.0], [102.0, 98.0, 95.0], [2.0, 0.0, 0.0], [140.0, 132.0, 126.0], [137.0, 129.0, 122.0], [2.0, 0.0, 0.0], [78.0, 77.0, 69.0], [2.0, 0.0, 2.0], [84.0, 81.0, 70.0], [84.0, 84.0, 71.0], [80.0, 78.0, 72.0], [2.0, 0.0, 0.0], [0.0, 0.0, 0.0], [42.0, 33.0, 25.0], [90.0, 90.0, 78.0], [90.0, 88.0, 75.0], [87.0, 87.0, 73.0], [0.0, 0.0, 1.0], [104.0, 99.0, 85.0], [110.0, 102.0, 98.0], [149.0, 146.0, 135.0], [115.0, 111.0, 108.0], [153.0, 150.0, 142.0], [160.0, 152.0, 144.0], [162.0, 152.0, 144.0], [161.0, 152.0, 144.0], [160.0, 158.0, 145.0], [160.0, 158.0, 145.0], [161.0, 156.0, 146.0], [28.0, 24.0, 21.0], [103.0, 100.0, 92.0], [55.0, 51.0, 45.0], [104.0, 101.0, 93.0], [118.0, 117.0, 108.0], [124.0, 122.0, 109.0], [106.0, 103.0, 90.0], [106.0, 103.0, 92.0], [3.0, 4.0, 0.0], [87.0, 86.0, 77.0], [87.0, 86.0, 77.0], [116.0, 114.0, 97.0], [102.0, 95.0, 91.0], [101.0, 96.0, 92.0], [151.0, 150.0, 139.0], [134.0, 129.0, 119.0], [24.0, 22.0, 22.0], [23.0, 19.0, 12.0], [128.0, 122.0, 110.0], [51.0, 47.0, 42.0], [29.0, 25.0, 25.0], [39.0, 35.0, 32.0], [92.0, 88.0, 82.0], [168.0, 170.0, 154.0], [10.0, 7.0, 10.0], [6.0, 6.0, 6.0], [118.0, 114.0, 111.0], [68.0, 66.0, 51.0], [64.0, 59.0, 59.0], [69.0, 67.0, 63.0], [59.0, 57.0, 53.0], [63.0, 59.0, 53.0], [87.0, 82.0, 77.0], [62.0, 61.0, 52.0], [117.0, 108.0, 104.0], [2.0, 0.0, 0.0], [81.0, 74.0, 65.0], [59.0, 56.0, 46.0], [59.0, 56.0, 46.0], [86.0, 78.0, 73.0], [58.0, 55.0, 43.0], [36.0, 28.0, 5.0], [4.0, 0.0, 1.0], [2.0, 2.0, 2.0], [57.0, 54.0, 43.0], [32.0, 31.0, 22.0], [30.0, 23.0, 4.0], [4.0, 1.0, 6.0], [9.0, 5.0, 2.0], [56.0, 52.0, 44.0], [57.0, 52.0, 42.0], [66.0, 61.0, 54.0], [103.0, 98.0, 86.0], [104.0, 101.0, 93.0], [126.0, 118.0, 114.0], [103.0, 100.0, 90.0], [103.0, 97.0, 88.0], [49.0, 51.0, 39.0], [59.0, 56.0, 46.0], [73.0, 68.0, 61.0], [70.0, 64.0, 57.0], [52.0, 49.0, 41.0], [99.0, 95.0, 87.0], [25.0, 24.0, 15.0], [85.0, 85.0, 76.0], [66.0, 64.0, 40.0], [66.0, 64.0, 40.0], [47.0, 46.0, 39.0], [136.0, 128.0, 126.0], [140.0, 131.0, 130.0], [54.0, 51.0, 45.0], [132.0, 132.0, 110.0], [148.0, 139.0, 136.0], [21.0, 22.0, 15.0], [4.0, 1.0, 0.0], [4.0, 4.0, 2.0], [1.0, 0.0, 1.0], [21.0, 20.0, 14.0], [1.0, 0.0, 0.0], [24.0, 22.0, 18.0], [58.0, 53.0, 53.0], [102.0, 104.0, 92.0], [112.0, 106.0, 100.0], [1.0, 1.0, 1.0], [113.0, 105.0, 101.0], [19.0, 18.0, 11.0], [26.0, 27.0, 20.0], [56.0, 55.0, 47.0], [55.0, 58.0, 55.0], [67.0, 66.0, 59.0], [24.0, 24.0, 17.0], [94.0, 89.0, 81.0], [63.0, 58.0, 51.0], [53.0, 51.0, 49.0], [57.0, 61.0, 50.0], [27.0, 27.0, 20.0], [56.0, 54.0, 55.0], [106.0, 97.0, 89.0], [150.0, 153.0, 136.0], [110.0, 107.0, 98.0], [179.0, 185.0, 163.0], [113.0, 108.0, 100.0], [104.0, 96.0, 92.0], [96.0, 90.0, 85.0], [56.0, 57.0, 47.0], [162.0, 169.0, 158.0], [178.0, 182.0, 169.0], [90.0, 83.0, 81.0], [7.0, 3.0, 2.0], [158.0, 156.0, 143.0], [79.0, 70.0, 68.0], [8.0, 3.0, 0.0], [147.0, 147.0, 131.0], [1.0, 1.0, 0.0], [98.0, 92.0, 87.0], [70.0, 66.0, 62.0], [78.0, 74.0, 71.0], [26.0, 24.0, 19.0], [6.0, 2.0, 0.0], [118.0, 115.0, 109.0], [115.0, 113.0, 107.0], [56.0, 62.0, 60.0], [34.0, 35.0, 30.0], [34.0, 35.0, 30.0], [101.0, 97.0, 94.0], [33.0, 36.0, 34.0], [52.0, 54.0, 38.0], [174.0, 166.0, 122.0], [105.0, 99.0, 92.0], [150.0, 156.0, 131.0], [128.0, 120.0, 116.0], [127.0, 116.0, 97.0], [46.0, 42.0, 41.0], [3.0, 1.0, 0.0], [37.0, 39.0, 36.0], [133.0, 125.0, 117.0], [129.0, 124.0, 114.0], [81.0, 76.0, 71.0], [33.0, 31.0, 26.0], [3.0, 3.0, 2.0], [127.0, 120.0, 110.0], [3.0, 3.0, 2.0], [3.0, 0.0, 1.0], [79.0, 82.0, 65.0], [1.0, 0.0, 0.0], [71.0, 69.0, 63.0], [84.0, 84.0, 71.0], [93.0, 93.0, 79.0], [53.0, 56.0, 52.0], [210.0, 200.0, 163.0], [47.0, 47.0, 37.0], [45.0, 50.0, 49.0], [45.0, 48.0, 49.0], [52.0, 53.0, 43.0], [84.0, 79.0, 73.0], [86.0, 93.0, 83.0], [151.0, 145.0, 115.0], [81.0, 78.0, 72.0], [51.0, 52.0, 48.0], [215.0, 209.0, 177.0], [89.0, 96.0, 86.0], [25.0, 23.0, 19.0], [133.0, 126.0, 120.0], [83.0, 79.0, 76.0], [117.0, 111.0, 88.0], [147.0, 147.0, 133.0], [155.0, 161.0, 151.0], [89.0, 84.0, 74.0], [1.0, 1.0, 0.0], [94.0, 93.0, 80.0], [64.0, 66.0, 56.0], [51.0, 53.0, 46.0], [66.0, 62.0, 57.0], [93.0, 88.0, 85.0], [93.0, 88.0, 85.0], [122.0, 119.0, 109.0], [121.0, 118.0, 107.0], [118.0, 116.0, 103.0], [83.0, 81.0, 75.0], [57.0, 55.0, 41.0], [71.0, 67.0, 59.0], [83.0, 83.0, 71.0], [67.0, 64.0, 56.0], [92.0, 94.0, 84.0], [42.0, 41.0, 33.0], [68.0, 68.0, 56.0], [63.0, 62.0, 54.0], [105.0, 104.0, 96.0], [113.0, 113.0, 102.0], [109.0, 101.0, 94.0], [64.0, 63.0, 59.0], [47.0, 47.0, 35.0], [109.0, 107.0, 94.0], [50.0, 52.0, 44.0], [109.0, 106.0, 96.0], [108.0, 107.0, 96.0], [112.0, 109.0, 106.0], [55.0, 57.0, 43.0], [88.0, 86.0, 84.0], [104.0, 104.0, 94.0], [67.0, 67.0, 67.0], [9.0, 4.0, 1.0], [5.0, 2.0, 1.0], [138.0, 124.0, 100.0], [64.0, 61.0, 54.0], [90.0, 84.0, 81.0], [127.0, 125.0, 120.0], [88.0, 87.0, 81.0], [50.0, 47.0, 38.0], [51.0, 52.0, 41.0], [60.0, 57.0, 49.0], [62.0, 61.0, 54.0], [55.0, 54.0, 45.0], [108.0, 90.0, 43.0], [77.0, 76.0, 70.0], [10.0, 5.0, 2.0], [60.0, 62.0, 53.0], [68.0, 66.0, 62.0], [68.0, 69.0, 61.0], [4.0, 2.0, 1.0], [85.0, 82.0, 67.0], [1.0, 0.0, 0.0], [148.0, 147.0, 117.0], [52.0, 56.0, 51.0], [36.0, 38.0, 35.0], [53.0, 55.0, 44.0], [50.0, 51.0, 44.0], [0.0, 0.0, 1.0], [60.0, 59.0, 51.0], [57.0, 56.0, 52.0], [3.0, 0.0, 2.0], [45.0, 43.0, 38.0], [107.0, 117.0, 112.0], [57.0, 55.0, 52.0], [57.0, 56.0, 52.0], [108.0, 99.0, 79.0], [1.0, 0.0, 1.0], [1.0, 0.0, 1.0], [57.0, 56.0, 50.0], [65.0, 67.0, 57.0], [67.0, 67.0, 56.0], [89.0, 90.0, 87.0], [93.0, 94.0, 90.0], [55.0, 54.0, 45.0], [64.0, 64.0, 62.0], [56.0, 59.0, 52.0], [118.0, 119.0, 104.0], [57.0, 56.0, 49.0], [3.0, 0.0, 0.0], [58.0, 57.0, 51.0], [93.0, 95.0, 85.0], [97.0, 96.0, 89.0], [123.0, 121.0, 111.0], [144.0, 134.0, 112.0], [98.0, 110.0, 117.0], [88.0, 98.0, 97.0], [55.0, 57.0, 46.0], [111.0, 109.0, 94.0], [75.0, 74.0, 66.0], [65.0, 68.0, 72.0], [76.0, 63.0, 41.0], [11.0, 4.0, 0.0], [68.0, 72.0, 80.0], [69.0, 69.0, 75.0], [63.0, 64.0, 58.0], [76.0, 75.0, 68.0], [79.0, 87.0, 96.0], [92.0, 91.0, 76.0], [99.0, 91.0, 71.0], [62.0, 63.0, 55.0], [95.0, 91.0, 75.0], [86.0, 95.0, 108.0], [86.0, 88.0, 79.0], [74.0, 76.0, 65.0], [112.0, 112.0, 97.0], [4.0, 0.0, 0.0], [95.0, 80.0, 56.0], [75.0, 76.0, 66.0], [68.0, 69.0, 59.0], [0.0, 0.0, 0.0], [95.0, 100.0, 86.0], [89.0, 64.0, 20.0], [72.0, 74.0, 64.0], [73.0, 74.0, 67.0], [83.0, 83.0, 72.0], [75.0, 79.0, 77.0], [2.0, 1.0, 0.0], [80.0, 82.0, 72.0], [92.0, 96.0, 103.0], [1.0, 1.0, 1.0], [115.0, 120.0, 106.0], [71.0, 70.0, 64.0], [86.0, 84.0, 78.0], [0.0, 0.0, 0.0], [69.0, 68.0, 59.0], [141.0, 143.0, 133.0], [0.0, 0.0, 0.0], [0.0, 0.0, 0.0], [113.0, 101.0, 72.0], [65.0, 64.0, 58.0], [70.0, 71.0, 64.0], [64.0, 63.0, 55.0], [106.0, 113.0, 112.0], [116.0, 123.0, 120.0], [152.0, 152.0, 128.0], [70.0, 69.0, 62.0], [107.0, 100.0, 78.0], [70.0, 70.0, 70.0], [1.0, 0.0, 0.0]], \"opacity\": 0.8, \"size\": 2}, \"mode\": \"markers\", \"type\": \"scatter3d\", \"x\": [0.0, 0.0, 0.0, 0.0, 0.0, 0.0, 0.0, 0.0, 0.0, 0.0, 0.0, 0.0, 0.0, 0.0, 0.0, 0.0, 0.0, 0.0, 0.0, 0.0, 0.0, 0.0, 0.0, 0.0, 0.0, 0.0, 0.0, 0.0, 0.0, 0.0, 0.0, 0.0, 0.0, 0.0, 0.0, 0.0, 0.0, 0.0, 0.0, 0.0, 0.0, 0.0, 0.0, 0.0, 0.0, 0.0, 0.0, 0.0, 0.0, 0.0, 0.0, 0.0, 0.0, 0.0, 0.0, 0.0, 0.0, 0.0, 0.0, 0.0, 0.0, 0.0, 0.0, 0.0, 0.0, 0.0, 0.0, 0.0, 0.0, 0.0, 0.0, 0.0, 0.0, 0.0, 0.0, 0.0, 0.0, 0.0, 0.0, 0.0, 0.0, 0.0, 0.0, 0.0, 0.0, 0.0, 0.0, 0.0, 0.0, 0.0, 0.0, 0.0, 0.0, 0.0, 0.0, 0.0, 0.0, 0.0, 0.0, 0.0, 0.0, 0.0, 0.0, 0.0, 0.0, 0.0, 0.0, 0.0, 0.0, 0.0, 0.0, 0.0, 0.0, 0.0, 0.0, 0.0, 0.0, 0.0, 0.0, 0.0, 0.0, 0.0, 0.0, 0.0, 0.0, 0.0, 0.0, 0.0, 0.0, 0.0, -0.0, -0.0, -0.0, -0.0, -0.0, -0.0, -0.0, -0.0, -0.0, -0.0, -0.0, -0.0, -0.0, -0.0, -0.0, -0.0, -0.0, -0.0, -0.0, -0.0, -0.0, -0.0, -0.0, -0.0, -0.0, -0.0, -0.0, -0.0, -0.0, -0.0, -0.0, -0.0, -0.0, -0.0, -0.0, -0.0, -0.0, -0.0, -0.0, -0.0, -0.0, -0.0, -0.0, -0.0, -0.0, -0.0, -0.0, -0.0, -0.0, -0.0, -0.0, -0.0, -0.0, -0.0, -0.0, -0.0, -0.0, -0.0, -0.0, -0.0, -0.0, -0.0, -0.0, -0.0, -0.0, -0.0, -0.0, -0.0, -0.0, -0.0, -0.0, -0.0, -0.0, -0.0, -0.0, -0.0, -0.0, -0.0, -0.0, -0.0, -0.0, -0.0, -0.0, -0.0, -0.0, -0.0, -0.0, -0.0, -0.0, -0.0, -0.0, -0.0, -0.0, -0.0, -0.0, -0.0, -0.0, -0.0, -0.0, -0.0, -0.0, -0.0, -0.0, -0.0, -0.0, -0.0, -0.0, -0.0, -0.0, -0.0, -0.0, -0.0, -0.0, -0.0, -0.0, -0.0, -0.0, -0.0, -0.0, -0.0, -0.0, -0.0, -0.0, -0.0, -0.0, -0.0, -0.0, -0.0, -0.0, -0.0, -0.0, -0.0, -0.0, -0.0, -0.0, -0.0, -0.0, -0.0, -0.0, -0.0, -0.0, -0.0, -0.0, -0.0, -0.0, -0.0, -0.0, -0.0, -0.0, -0.0, -0.0, -0.0, -0.0, -0.0, -0.0, -0.0, -0.0, -0.0, -0.0, -0.0, -0.0, -0.0, -0.0, -0.0, -0.0, -0.0, -0.0, -0.0, -0.0, -0.0, -0.0, -0.0, -0.0, -0.0, -0.0, -0.0, -0.0, -0.0, -0.0, -0.0, -0.0, -0.0, -0.0, -0.0, -0.0, -0.0, -0.0, -0.0, -0.0, -0.0, -0.0, -0.0, -0.0, -0.0, -0.0, -0.0, -0.0, -0.0, -0.0, -0.0, -0.0, -0.0, -0.0, -0.0, -0.0, -0.0, -0.0, -0.0, -0.0, -0.0, -0.0, -0.0, -0.0, -0.0, -0.0, -0.0, -0.0, -0.0, -0.0, -0.0, -0.0, -0.0, -0.0, -0.0, -0.0, -0.0, -0.0, -0.0], \"y\": [-0.0, -0.0, -0.0, -0.0, -0.0, 0.0, -0.0, 0.0, 0.0, 0.0, -0.0, -0.0, -0.0, -0.0, 0.0, 0.0, -0.0, -0.0, -0.0, 0.0, -0.0, 0.0, -0.0, 0.0, 0.0, -0.0, -0.0, -0.0, -0.0, -0.0, -0.0, 0.0, 0.0, 0.0, -0.0, -0.0, -0.0, 0.0, -0.0, 0.0, -0.0, 0.0, -0.0, 0.0, 0.0, 0.0, -0.0, -0.0, -0.0, 0.0, -0.0, 0.0, -0.0, -0.0, -0.0, -0.0, -0.0, -0.0, 0.0, 0.0, -0.0, 0.0, 0.0, -0.0, -0.0, 0.0, 0.0, 0.0, -0.0, 0.0, 0.0, 0.0, -0.0, 0.0, 0.0, 0.0, -0.0, -0.0, -0.0, -0.0, 0.0, 0.0, 0.0, 0.0, 0.0, 0.0, -0.0, -0.0, 0.0, -0.0, -0.0, 0.0, 0.0, -0.0, -0.0, -0.0, 0.0, 0.0, -0.0, -0.0, 0.0, -0.0, 0.0, 0.0, -0.0, -0.0, -0.0, -0.0, 0.0, 0.0, -0.0, 0.0, -0.0, 0.0, -0.0, -0.0, -0.0, 0.0, 0.0, 0.0, -0.0, 0.0, -0.0, -0.0, 0.0, 0.0, -0.0, 0.0, -0.0, 0.0, -0.0, 0.0, -0.0, 0.0, -0.0, -0.0, -0.0, -0.0, -0.0, -0.0, 0.0, 0.0, 0.0, -0.0, -0.0, 0.0, 0.0, -0.0, 0.0, -0.0, 0.0, 0.0, 0.0, -0.0, -0.0, -0.0, 0.0, 0.0, -0.0, 0.0, -0.0, -0.0, -0.0, 0.0, 0.0, 0.0, -0.0, 0.0, 0.0, 0.0, -0.0, -0.0, -0.0, 0.0, -0.0, -0.0, -0.0, 0.0, -0.0, 0.0, 0.0, 0.0, -0.0, -0.0, 0.0, 0.0, 0.0, -0.0, 0.0, 0.0, 0.0, 0.0, -0.0, 0.0, 0.0, -0.0, -0.0, -0.0, -0.0, -0.0, -0.0, -0.0, -0.0, 0.0, -0.0, -0.0, 0.0, -0.0, -0.0, -0.0, -0.0, 0.0, 0.0, -0.0, -0.0, -0.0, 0.0, -0.0, -0.0, -0.0, -0.0, 0.0, 0.0, 0.0, 0.0, 0.0, 0.0, 0.0, -0.0, 0.0, -0.0, 0.0, -0.0, -0.0, -0.0, 0.0, -0.0, 0.0, 0.0, 0.0, -0.0, -0.0, -0.0, -0.0, -0.0, 0.0, -0.0, 0.0, -0.0, 0.0, 0.0, 0.0, 0.0, -0.0, 0.0, 0.0, 0.0, -0.0, -0.0, -0.0, 0.0, -0.0, -0.0, -0.0, 0.0, -0.0, 0.0, 0.0, 0.0, -0.0, 0.0, -0.0, -0.0, 0.0, -0.0, -0.0, 0.0, -0.0, 0.0, -0.0, -0.0, -0.0, 0.0, 0.0, 0.0, -0.0, -0.0, -0.0, -0.0, -0.0, 0.0, 0.0, -0.0, 0.0, -0.0, -0.0, -0.0, -0.0, 0.0, 0.0, 0.0, 0.0, 0.0, -0.0, -0.0, -0.0, 0.0, -0.0, -0.0, -0.0, 0.0, -0.0, -0.0, -0.0, -0.0, -0.0, 0.0, 0.0, -0.0, 0.0, -0.0, 0.0, -0.0, -0.0, 0.0, -0.0, -0.0, -0.0, 0.0, -0.0, -0.0, -0.0, -0.0, -0.0, -0.0, -0.0, -0.0, -0.0, -0.0, -0.0, -0.0, -0.0, -0.0, -0.0, -0.0, -0.0, -0.0, -0.0, -0.0, -0.0, -0.0, -0.0, -0.0, -0.0, -0.0, -0.0, -0.0, -0.0], \"z\": [-0.0, -0.0, -0.0, -0.0, -0.0, -0.0, -0.0, -0.0, -0.0, -0.0, -0.0, -0.0, -0.0, -0.0, -0.0, -0.0, -0.0, -0.0, -0.0, -0.0, -0.0, -0.0, -0.0, -0.0, -0.0, -0.0, -0.0, -0.0, -0.0, -0.0, -0.0, -0.0, -0.0, -0.0, -0.0, -0.0, -0.0, -0.0, -0.0, -0.0, -0.0, -0.0, -0.0, -0.0, -0.0, -0.0, -0.0, -0.0, -0.0, -0.0, -0.0, -0.0, -0.0, -0.0, -0.0, -0.0, -0.0, -0.0, -0.0, -0.0, -0.0, -0.0, -0.0, -0.0, -0.0, -0.0, -0.0, -0.0, -0.0, -0.0, -0.0, -0.0, -0.0, -0.0, -0.0, -0.0, -0.0, -0.0, -0.0, -0.0, -0.0, -0.0, -0.0, -0.0, -0.0, -0.0, -0.0, -0.0, -0.0, -0.0, -0.0, -0.0, -0.0, -0.0, -0.0, -0.0, -0.0, -0.0, -0.0, -0.0, -0.0, -0.0, -0.0, -0.0, -0.0, -0.0, -0.0, -0.0, -0.0, -0.0, -0.0, -0.0, -0.0, -0.0, -0.0, -0.0, -0.0, -0.0, -0.0, -0.0, -0.0, -0.0, -0.0, -0.0, -0.0, -0.0, -0.0, -0.0, -0.0, -0.0, -0.0, -0.0, -0.0, -0.0, -0.0, -0.0, -0.0, -0.0, -0.0, -0.0, -0.0, -0.0, -0.0, -0.0, -0.0, -0.0, -0.0, -0.0, -0.0, -0.0, -0.0, -0.0, -0.0, -0.0, -0.0, -0.0, -0.0, -0.0, -0.0, -0.0, -0.0, -0.0, -0.0, -0.0, -0.0, -0.0, -0.0, -0.0, -0.0, -0.0, -0.0, -0.0, -0.0, -0.0, -0.0, -0.0, -0.0, -0.0, -0.0, -0.0, -0.0, -0.0, -0.0, -0.0, -0.0, -0.0, -0.0, -0.0, -0.0, -0.0, -0.0, -0.0, -0.0, -0.0, -0.0, -0.0, -0.0, -0.0, -0.0, -0.0, -0.0, -0.0, -0.0, -0.0, -0.0, -0.0, -0.0, -0.0, -0.0, -0.0, -0.0, -0.0, -0.0, -0.0, -0.0, -0.0, -0.0, -0.0, -0.0, -0.0, -0.0, -0.0, -0.0, -0.0, -0.0, -0.0, -0.0, -0.0, -0.0, -0.0, -0.0, -0.0, -0.0, -0.0, -0.0, -0.0, -0.0, -0.0, -0.0, -0.0, -0.0, -0.0, -0.0, -0.0, -0.0, -0.0, -0.0, -0.0, -0.0, -0.0, -0.0, -0.0, -0.0, -0.0, -0.0, -0.0, -0.0, -0.0, -0.0, -0.0, -0.0, -0.0, -0.0, -0.0, -0.0, -0.0, -0.0, -0.0, -0.0, -0.0, -0.0, -0.0, -0.0, -0.0, -0.0, -0.0, -0.0, -0.0, -0.0, -0.0, -0.0, -0.0, -0.0, -0.0, -0.0, -0.0, -0.0, -0.0, -0.0, -0.0, -0.0, -0.0, -0.0, -0.0, -0.0, -0.0, -0.0, -0.0, -0.0, -0.0, -0.0, -0.0, -0.0, -0.0, -0.0, -0.0, -0.0, -0.0, -0.0, -0.0, -0.0, -0.0, -0.0, -0.0, -0.0, -0.0, -0.0, -0.0, -0.0, -0.0, -0.0, -0.0, -0.0, -0.0, -0.0, -0.0, -0.0, -0.0, -0.0, -0.0, -0.0, -0.0, -0.0, -0.0, -0.0, -0.0, -0.0, -0.0, -0.0, -0.0, -0.0, -0.0, -0.0, -0.0, -0.0, -0.0, -0.0, -0.0, -0.0, -0.0, -0.0, -0.0, -0.0, -0.0, -0.0, -0.0, -0.0, -0.0]}],\n",
              "                        {\"template\": {\"data\": {\"bar\": [{\"error_x\": {\"color\": \"#2a3f5f\"}, \"error_y\": {\"color\": \"#2a3f5f\"}, \"marker\": {\"line\": {\"color\": \"#E5ECF6\", \"width\": 0.5}}, \"type\": \"bar\"}], \"barpolar\": [{\"marker\": {\"line\": {\"color\": \"#E5ECF6\", \"width\": 0.5}}, \"type\": \"barpolar\"}], \"carpet\": [{\"aaxis\": {\"endlinecolor\": \"#2a3f5f\", \"gridcolor\": \"white\", \"linecolor\": \"white\", \"minorgridcolor\": \"white\", \"startlinecolor\": \"#2a3f5f\"}, \"baxis\": {\"endlinecolor\": \"#2a3f5f\", \"gridcolor\": \"white\", \"linecolor\": \"white\", \"minorgridcolor\": \"white\", \"startlinecolor\": \"#2a3f5f\"}, \"type\": \"carpet\"}], \"choropleth\": [{\"colorbar\": {\"outlinewidth\": 0, \"ticks\": \"\"}, \"type\": \"choropleth\"}], \"contour\": [{\"colorbar\": {\"outlinewidth\": 0, \"ticks\": \"\"}, \"colorscale\": [[0.0, \"#0d0887\"], [0.1111111111111111, \"#46039f\"], [0.2222222222222222, \"#7201a8\"], [0.3333333333333333, \"#9c179e\"], [0.4444444444444444, \"#bd3786\"], [0.5555555555555556, \"#d8576b\"], [0.6666666666666666, \"#ed7953\"], [0.7777777777777778, \"#fb9f3a\"], [0.8888888888888888, \"#fdca26\"], [1.0, \"#f0f921\"]], \"type\": \"contour\"}], \"contourcarpet\": [{\"colorbar\": {\"outlinewidth\": 0, \"ticks\": \"\"}, \"type\": \"contourcarpet\"}], \"heatmap\": [{\"colorbar\": {\"outlinewidth\": 0, \"ticks\": \"\"}, \"colorscale\": [[0.0, \"#0d0887\"], [0.1111111111111111, \"#46039f\"], [0.2222222222222222, \"#7201a8\"], [0.3333333333333333, \"#9c179e\"], [0.4444444444444444, \"#bd3786\"], [0.5555555555555556, \"#d8576b\"], [0.6666666666666666, \"#ed7953\"], [0.7777777777777778, \"#fb9f3a\"], [0.8888888888888888, \"#fdca26\"], [1.0, \"#f0f921\"]], \"type\": \"heatmap\"}], \"heatmapgl\": [{\"colorbar\": {\"outlinewidth\": 0, \"ticks\": \"\"}, \"colorscale\": [[0.0, \"#0d0887\"], [0.1111111111111111, \"#46039f\"], [0.2222222222222222, \"#7201a8\"], [0.3333333333333333, \"#9c179e\"], [0.4444444444444444, \"#bd3786\"], [0.5555555555555556, \"#d8576b\"], [0.6666666666666666, \"#ed7953\"], [0.7777777777777778, \"#fb9f3a\"], [0.8888888888888888, \"#fdca26\"], [1.0, \"#f0f921\"]], \"type\": \"heatmapgl\"}], \"histogram\": [{\"marker\": {\"colorbar\": {\"outlinewidth\": 0, \"ticks\": \"\"}}, \"type\": \"histogram\"}], \"histogram2d\": [{\"colorbar\": {\"outlinewidth\": 0, \"ticks\": \"\"}, \"colorscale\": [[0.0, \"#0d0887\"], [0.1111111111111111, \"#46039f\"], [0.2222222222222222, \"#7201a8\"], [0.3333333333333333, \"#9c179e\"], [0.4444444444444444, \"#bd3786\"], [0.5555555555555556, \"#d8576b\"], [0.6666666666666666, \"#ed7953\"], [0.7777777777777778, \"#fb9f3a\"], [0.8888888888888888, \"#fdca26\"], [1.0, \"#f0f921\"]], \"type\": \"histogram2d\"}], \"histogram2dcontour\": [{\"colorbar\": {\"outlinewidth\": 0, \"ticks\": \"\"}, \"colorscale\": [[0.0, \"#0d0887\"], [0.1111111111111111, \"#46039f\"], [0.2222222222222222, \"#7201a8\"], [0.3333333333333333, \"#9c179e\"], [0.4444444444444444, \"#bd3786\"], [0.5555555555555556, \"#d8576b\"], [0.6666666666666666, \"#ed7953\"], [0.7777777777777778, \"#fb9f3a\"], [0.8888888888888888, \"#fdca26\"], [1.0, \"#f0f921\"]], \"type\": \"histogram2dcontour\"}], \"mesh3d\": [{\"colorbar\": {\"outlinewidth\": 0, \"ticks\": \"\"}, \"type\": \"mesh3d\"}], \"parcoords\": [{\"line\": {\"colorbar\": {\"outlinewidth\": 0, \"ticks\": \"\"}}, \"type\": \"parcoords\"}], \"pie\": [{\"automargin\": true, \"type\": \"pie\"}], \"scatter\": [{\"marker\": {\"colorbar\": {\"outlinewidth\": 0, \"ticks\": \"\"}}, \"type\": \"scatter\"}], \"scatter3d\": [{\"line\": {\"colorbar\": {\"outlinewidth\": 0, \"ticks\": \"\"}}, \"marker\": {\"colorbar\": {\"outlinewidth\": 0, \"ticks\": \"\"}}, \"type\": \"scatter3d\"}], \"scattercarpet\": [{\"marker\": {\"colorbar\": {\"outlinewidth\": 0, \"ticks\": \"\"}}, \"type\": \"scattercarpet\"}], \"scattergeo\": [{\"marker\": {\"colorbar\": {\"outlinewidth\": 0, \"ticks\": \"\"}}, \"type\": \"scattergeo\"}], \"scattergl\": [{\"marker\": {\"colorbar\": {\"outlinewidth\": 0, \"ticks\": \"\"}}, \"type\": \"scattergl\"}], \"scattermapbox\": [{\"marker\": {\"colorbar\": {\"outlinewidth\": 0, \"ticks\": \"\"}}, \"type\": \"scattermapbox\"}], \"scatterpolar\": [{\"marker\": {\"colorbar\": {\"outlinewidth\": 0, \"ticks\": \"\"}}, \"type\": \"scatterpolar\"}], \"scatterpolargl\": [{\"marker\": {\"colorbar\": {\"outlinewidth\": 0, \"ticks\": \"\"}}, \"type\": \"scatterpolargl\"}], \"scatterternary\": [{\"marker\": {\"colorbar\": {\"outlinewidth\": 0, \"ticks\": \"\"}}, \"type\": \"scatterternary\"}], \"surface\": [{\"colorbar\": {\"outlinewidth\": 0, \"ticks\": \"\"}, \"colorscale\": [[0.0, \"#0d0887\"], [0.1111111111111111, \"#46039f\"], [0.2222222222222222, \"#7201a8\"], [0.3333333333333333, \"#9c179e\"], [0.4444444444444444, \"#bd3786\"], [0.5555555555555556, \"#d8576b\"], [0.6666666666666666, \"#ed7953\"], [0.7777777777777778, \"#fb9f3a\"], [0.8888888888888888, \"#fdca26\"], [1.0, \"#f0f921\"]], \"type\": \"surface\"}], \"table\": [{\"cells\": {\"fill\": {\"color\": \"#EBF0F8\"}, \"line\": {\"color\": \"white\"}}, \"header\": {\"fill\": {\"color\": \"#C8D4E3\"}, \"line\": {\"color\": \"white\"}}, \"type\": \"table\"}]}, \"layout\": {\"annotationdefaults\": {\"arrowcolor\": \"#2a3f5f\", \"arrowhead\": 0, \"arrowwidth\": 1}, \"coloraxis\": {\"colorbar\": {\"outlinewidth\": 0, \"ticks\": \"\"}}, \"colorscale\": {\"diverging\": [[0, \"#8e0152\"], [0.1, \"#c51b7d\"], [0.2, \"#de77ae\"], [0.3, \"#f1b6da\"], [0.4, \"#fde0ef\"], [0.5, \"#f7f7f7\"], [0.6, \"#e6f5d0\"], [0.7, \"#b8e186\"], [0.8, \"#7fbc41\"], [0.9, \"#4d9221\"], [1, \"#276419\"]], \"sequential\": [[0.0, \"#0d0887\"], [0.1111111111111111, \"#46039f\"], [0.2222222222222222, \"#7201a8\"], [0.3333333333333333, \"#9c179e\"], [0.4444444444444444, \"#bd3786\"], [0.5555555555555556, \"#d8576b\"], [0.6666666666666666, \"#ed7953\"], [0.7777777777777778, \"#fb9f3a\"], [0.8888888888888888, \"#fdca26\"], [1.0, \"#f0f921\"]], \"sequentialminus\": [[0.0, \"#0d0887\"], [0.1111111111111111, \"#46039f\"], [0.2222222222222222, \"#7201a8\"], [0.3333333333333333, \"#9c179e\"], [0.4444444444444444, \"#bd3786\"], [0.5555555555555556, \"#d8576b\"], [0.6666666666666666, \"#ed7953\"], [0.7777777777777778, \"#fb9f3a\"], [0.8888888888888888, \"#fdca26\"], [1.0, \"#f0f921\"]]}, \"colorway\": [\"#636efa\", \"#EF553B\", \"#00cc96\", \"#ab63fa\", \"#FFA15A\", \"#19d3f3\", \"#FF6692\", \"#B6E880\", \"#FF97FF\", \"#FECB52\"], \"font\": {\"color\": \"#2a3f5f\"}, \"geo\": {\"bgcolor\": \"white\", \"lakecolor\": \"white\", \"landcolor\": \"#E5ECF6\", \"showlakes\": true, \"showland\": true, \"subunitcolor\": \"white\"}, \"hoverlabel\": {\"align\": \"left\"}, \"hovermode\": \"closest\", \"mapbox\": {\"style\": \"light\"}, \"paper_bgcolor\": \"white\", \"plot_bgcolor\": \"#E5ECF6\", \"polar\": {\"angularaxis\": {\"gridcolor\": \"white\", \"linecolor\": \"white\", \"ticks\": \"\"}, \"bgcolor\": \"#E5ECF6\", \"radialaxis\": {\"gridcolor\": \"white\", \"linecolor\": \"white\", \"ticks\": \"\"}}, \"scene\": {\"xaxis\": {\"backgroundcolor\": \"#E5ECF6\", \"gridcolor\": \"white\", \"gridwidth\": 2, \"linecolor\": \"white\", \"showbackground\": true, \"ticks\": \"\", \"zerolinecolor\": \"white\"}, \"yaxis\": {\"backgroundcolor\": \"#E5ECF6\", \"gridcolor\": \"white\", \"gridwidth\": 2, \"linecolor\": \"white\", \"showbackground\": true, \"ticks\": \"\", \"zerolinecolor\": \"white\"}, \"zaxis\": {\"backgroundcolor\": \"#E5ECF6\", \"gridcolor\": \"white\", \"gridwidth\": 2, \"linecolor\": \"white\", \"showbackground\": true, \"ticks\": \"\", \"zerolinecolor\": \"white\"}}, \"shapedefaults\": {\"line\": {\"color\": \"#2a3f5f\"}}, \"ternary\": {\"aaxis\": {\"gridcolor\": \"white\", \"linecolor\": \"white\", \"ticks\": \"\"}, \"baxis\": {\"gridcolor\": \"white\", \"linecolor\": \"white\", \"ticks\": \"\"}, \"bgcolor\": \"#E5ECF6\", \"caxis\": {\"gridcolor\": \"white\", \"linecolor\": \"white\", \"ticks\": \"\"}}, \"title\": {\"x\": 0.05}, \"xaxis\": {\"automargin\": true, \"gridcolor\": \"white\", \"linecolor\": \"white\", \"ticks\": \"\", \"title\": {\"standoff\": 15}, \"zerolinecolor\": \"white\", \"zerolinewidth\": 2}, \"yaxis\": {\"automargin\": true, \"gridcolor\": \"white\", \"linecolor\": \"white\", \"ticks\": \"\", \"title\": {\"standoff\": 15}, \"zerolinecolor\": \"white\", \"zerolinewidth\": 2}}}},\n",
              "                        {\"responsive\": true}\n",
              "                    ).then(function(){\n",
              "                            \n",
              "var gd = document.getElementById('243bae80-223f-4f35-8799-926d89221926');\n",
              "var x = new MutationObserver(function (mutations, observer) {{\n",
              "        var display = window.getComputedStyle(gd).display;\n",
              "        if (!display || display === 'none') {{\n",
              "            console.log([gd, 'removed!']);\n",
              "            Plotly.purge(gd);\n",
              "            observer.disconnect();\n",
              "        }}\n",
              "}});\n",
              "\n",
              "// Listen for the removal of the full notebook cells\n",
              "var notebookContainer = gd.closest('#notebook-container');\n",
              "if (notebookContainer) {{\n",
              "    x.observe(notebookContainer, {childList: true});\n",
              "}}\n",
              "\n",
              "// Listen for the clearing of the current output cell\n",
              "var outputEl = gd.closest('.output');\n",
              "if (outputEl) {{\n",
              "    x.observe(outputEl, {childList: true});\n",
              "}}\n",
              "\n",
              "                        })\n",
              "                };\n",
              "                \n",
              "            </script>\n",
              "        </div>\n",
              "</body>\n",
              "</html>"
            ]
          },
          "metadata": {
            "tags": []
          }
        }
      ]
    }
  ]
}